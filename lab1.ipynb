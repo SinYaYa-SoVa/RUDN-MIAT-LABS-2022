{
 "cells": [
  {
   "cell_type": "markdown",
   "metadata": {},
   "source": [
    "\n",
    "\n",
    "<H1>Методы интеллектуального анализа текстов</H1>\n",
    "<H2>Тема 1. Регулярные выражения</H2>\n",
    "\n"
   ]
  },
  {
   "cell_type": "code",
   "execution_count": 5,
   "metadata": {},
   "outputs": [],
   "source": [
    "import re"
   ]
  },
  {
   "cell_type": "markdown",
   "metadata": {},
   "source": [
    "<H3> Задача 1. Выделить из текста автомобильные номера. </H3>"
   ]
  },
  {
   "cell_type": "code",
   "execution_count": 6,
   "metadata": {},
   "outputs": [],
   "source": [
    "def task1():\n",
    "    def tests():\n",
    "        test_string = \"РТУ220О KE800К П227НА С227НА Е199КБ Е512KM О503ДП Р59ОТС A771BE Х281ОН 112МНО Т51РУ Е390МВ М9000РТ М900РТУ В5РСХИ \"\n",
    "        test_string2 = 'Автомобиль с номером В666ОР злостно нарушил ПДД.'\n",
    "        assert re.findall(regexp, test_string) == ['С227НА', 'Х281ОН', 'Е390МВ'], 'Проверьте регулярное выражение'\n",
    "        assert re.findall(regexp, test_string2) == ['В666ОР'], 'Проверьте регулярное выражение'\n",
    "        print(\"Задание 1: Тесты пройдены\")\n",
    "    regexp = r'[АВЕКМНОРСТУХ]\\d{3}[АВЕКМНОРСТУХ]{2}\\b'\n",
    "    tests()\n",
    "    "
   ]
  },
  {
   "cell_type": "code",
   "execution_count": 7,
   "metadata": {},
   "outputs": [
    {
     "name": "stdout",
     "output_type": "stream",
     "text": [
      "Задание 1: Тесты пройдены\n"
     ]
    }
   ],
   "source": [
    "task1()"
   ]
  },
  {
   "cell_type": "markdown",
   "metadata": {},
   "source": [
    "<H3> Задача 2. Почистить текст от html-тегов. </H3>"
   ]
  },
  {
   "cell_type": "code",
   "execution_count": 8,
   "metadata": {},
   "outputs": [
    {
     "name": "stdout",
     "output_type": "stream",
     "text": [
      "total 296\r\n",
      "drwxr-xr-x  11 ilya  staff   352B 11 сен 17:42 \u001B[34m.\u001B[m\u001B[m\r\n",
      "drwxr-xr-x  19 ilya  staff   608B  9 сен 12:34 \u001B[34m..\u001B[m\u001B[m\r\n",
      "drwxr-xr-x   8 ilya  staff   256B 11 сен 17:40 \u001B[34m.idea\u001B[m\u001B[m\r\n",
      "drwxr-xr-x   4 ilya  staff   128B 11 сен 17:41 \u001B[34m.ipynb_checkpoints\u001B[m\u001B[m\r\n",
      "-rw-r--r--   1 ilya  staff   3,7K 11 сен 17:36 lab1.py\r\n",
      "-rw-r--r--   1 ilya  staff   6,6K 11 сен 17:41 lab1_shevlyakov.ipynb\r\n",
      "-rw-r--r--   1 ilya  staff    41K 11 сен 12:14 moviescripts.html\r\n",
      "-rw-r--r--   1 ilya  staff    41K 11 сен 17:42 moviescripts.html.1\r\n",
      "-rw-r--r--   1 ilya  staff    41K 11 сен 17:42 moviescripts.html.2\r\n",
      "-rw-r--r--   1 ilya  staff   797B 11 сен 17:08 test.py\r\n",
      "drwxr-xr-x   6 ilya  staff   192B  9 сен 12:34 \u001B[34mvenv\u001B[m\u001B[m\r\n"
     ]
    }
   ],
   "source": [
    "!wget -q https://www.dropbox.com/s/dqp8yjmtu23fblj/moviescripts.html && ls -lah"
   ]
  },
  {
   "cell_type": "code",
   "execution_count": 9,
   "metadata": {},
   "outputs": [],
   "source": [
    "def task2():\n",
    "    with open('moviescripts.html', 'r', encoding='utf-8') as f:\n",
    "        text = f.read()\n",
    "    def clean_func(text):\n",
    "        clean_text = re.sub(r'(<.*?>)|\\n', '', text)\n",
    "        return clean_text.strip()\n",
    "    def tests():\n",
    "        assert '\\n' not in result, 'Результат должен выдаваться одной строкой!'\n",
    "        assert result[\n",
    "               700:800] == 'мые прекрасные, остаются только идеями и сами по себе ценятся недорого. Иное дело — идеи, разработан'\n",
    "        assert result[\n",
    "               -100:] == 'ты должны научиться спокойно расставаться со своими детищами и переключаться на настоящее и будущее.'\n",
    "        print(\"Задание 2: Тесты пройдены\")\n",
    "    result = clean_func(text)\n",
    "    tests()"
   ]
  },
  {
   "cell_type": "code",
   "execution_count": 10,
   "metadata": {},
   "outputs": [
    {
     "name": "stdout",
     "output_type": "stream",
     "text": [
      "Задание 2: Тесты пройдены\n"
     ]
    }
   ],
   "source": [
    "task2()"
   ]
  },
  {
   "cell_type": "markdown",
   "metadata": {},
   "source": [
    "<H3> Задача 3. С помощью одного выражения с re.sub собрать в предложение набор токенов ('Привет, как дела?' из ['Привет', ',',\n",
    "    'как', 'дела', '?'])</H3>"
   ]
  },
  {
   "cell_type": "code",
   "execution_count": 11,
   "metadata": {},
   "outputs": [],
   "source": [
    "def task3():\n",
    "    def tests():\n",
    "        assert make_sentence(\n",
    "            [\"Привет\", \",\", \"как\", \"дела\", \"?\"]) == 'Привет, как дела?', 'Проверьте регулярное выражение'\n",
    "        text = \"Впервые передо мной забрезжил свет потенциальной осмысленности регэкспов: http://docs.python.org/dev/howto/regex.html понятно и доходчиво объясняет их функцию в роли трафарета, — использование групп для выделения конкретных участков текста.\"\n",
    "        tokens = ['Впервые', 'передо', 'мной', 'забрезжил', 'свет', 'потенциальной', 'осмысленности', 'регэкспов', ':',\n",
    "                  'http://docs.python.org/dev/howto/regex.html', 'понятно', 'и', 'доходчиво', 'объясняет', 'их',\n",
    "                  'функцию', 'в', 'роли', 'трафарета', ',', '—', 'использование', 'групп', 'для', 'выделения',\n",
    "                  'конкретных', 'участков', 'текста', '.']\n",
    "        assert make_sentence(tokens) == text, 'Проверьте регулярное выражение'\n",
    "        print(\"Задание 3: Тесты пройдены\")\n",
    "    make_sentence = lambda c: (re.sub(r'(\\w)\\s(\\W)', r'\\1\\2', ' '.join([i for i in c]))).strip()\n",
    "    tests()"
   ]
  },
  {
   "cell_type": "code",
   "execution_count": 12,
   "metadata": {},
   "outputs": [
    {
     "name": "stdout",
     "output_type": "stream",
     "text": [
      "Задание 3: Тесты пройдены\n"
     ]
    }
   ],
   "source": [
    "task3()"
   ]
  },
  {
   "cell_type": "code",
   "execution_count": null,
   "metadata": {},
   "outputs": [],
   "source": []
  }
 ],
 "metadata": {
  "kernelspec": {
   "display_name": "Python 3 (ipykernel)",
   "language": "python",
   "name": "python3"
  },
  "language_info": {
   "codemirror_mode": {
    "name": "ipython",
    "version": 3
   },
   "file_extension": ".py",
   "mimetype": "text/x-python",
   "name": "python",
   "nbconvert_exporter": "python",
   "pygments_lexer": "ipython3",
   "version": "3.10.6"
  }
 },
 "nbformat": 4,
 "nbformat_minor": 2
}