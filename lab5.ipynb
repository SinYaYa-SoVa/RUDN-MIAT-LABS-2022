{
 "cells": [
  {
   "cell_type": "markdown",
   "source": [
    "\n",
    "\n",
    "<H1>Методы интеллектуального анализа текстов</H1>\n",
    "<H2>Тема 5. Семантический анализ текстов</H2>\n",
    "\n"
   ],
   "metadata": {
    "collapsed": false,
    "id": "0ZJ1Q6DAh3ae"
   }
  },
  {
   "cell_type": "markdown",
   "source": [
    "### Задание 4:\n",
    "Сравнить три пары предложений двумя методами: сравнением расстояния редактирования деревьев зависимостей (zss) и косинусной мерой между BERT-эмбеддингами."
   ],
   "metadata": {
    "collapsed": false,
    "pycharm": {
     "name": "#%% md\n"
    },
    "id": "OvY2AWS3h3ap"
   }
  },
  {
   "cell_type": "markdown",
   "source": [
    "Импортируем нужные библиотеки."
   ],
   "metadata": {
    "collapsed": false,
    "pycharm": {
     "name": "#%% md\n"
    },
    "id": "EaZdA9m3h3ap"
   }
  },
  {
   "cell_type": "code",
   "source": [
    "! pip install transformers\n",
    "! pip install ufal.udpipe\n",
    "! pip install git+https://github.com/IINemo/isanlp.git ufal.udpipe\n",
    "! wget -q https://lindat.mff.cuni.cz/repository/xmlui/bitstream/handle/11234/1-3131/russian-syntagrus-ud-2.5-191206.udpipe"
   ],
   "metadata": {
    "colab": {
     "base_uri": "https://localhost:8080/"
    },
    "id": "xTh4CMW7swVc",
    "outputId": "53806db2-ca37-4c54-cbfc-b889e8627988"
   },
   "execution_count": 13,
   "outputs": [
    {
     "output_type": "stream",
     "name": "stdout",
     "text": [
      "Looking in indexes: https://pypi.org/simple, https://us-python.pkg.dev/colab-wheels/public/simple/\n",
      "Requirement already satisfied: transformers in /usr/local/lib/python3.7/dist-packages (4.22.2)\n",
      "Requirement already satisfied: tokenizers!=0.11.3,<0.13,>=0.11.1 in /usr/local/lib/python3.7/dist-packages (from transformers) (0.12.1)\n",
      "Requirement already satisfied: huggingface-hub<1.0,>=0.9.0 in /usr/local/lib/python3.7/dist-packages (from transformers) (0.10.0)\n",
      "Requirement already satisfied: numpy>=1.17 in /usr/local/lib/python3.7/dist-packages (from transformers) (1.21.6)\n",
      "Requirement already satisfied: importlib-metadata in /usr/local/lib/python3.7/dist-packages (from transformers) (5.0.0)\n",
      "Requirement already satisfied: packaging>=20.0 in /usr/local/lib/python3.7/dist-packages (from transformers) (21.3)\n",
      "Requirement already satisfied: requests in /usr/local/lib/python3.7/dist-packages (from transformers) (2.23.0)\n",
      "Requirement already satisfied: tqdm>=4.27 in /usr/local/lib/python3.7/dist-packages (from transformers) (4.64.1)\n",
      "Requirement already satisfied: filelock in /usr/local/lib/python3.7/dist-packages (from transformers) (3.8.0)\n",
      "Requirement already satisfied: pyyaml>=5.1 in /usr/local/lib/python3.7/dist-packages (from transformers) (6.0)\n",
      "Requirement already satisfied: regex!=2019.12.17 in /usr/local/lib/python3.7/dist-packages (from transformers) (2022.6.2)\n",
      "Requirement already satisfied: typing-extensions>=3.7.4.3 in /usr/local/lib/python3.7/dist-packages (from huggingface-hub<1.0,>=0.9.0->transformers) (4.1.1)\n",
      "Requirement already satisfied: pyparsing!=3.0.5,>=2.0.2 in /usr/local/lib/python3.7/dist-packages (from packaging>=20.0->transformers) (3.0.9)\n",
      "Requirement already satisfied: zipp>=0.5 in /usr/local/lib/python3.7/dist-packages (from importlib-metadata->transformers) (3.8.1)\n",
      "Requirement already satisfied: urllib3!=1.25.0,!=1.25.1,<1.26,>=1.21.1 in /usr/local/lib/python3.7/dist-packages (from requests->transformers) (1.24.3)\n",
      "Requirement already satisfied: idna<3,>=2.5 in /usr/local/lib/python3.7/dist-packages (from requests->transformers) (2.10)\n",
      "Requirement already satisfied: chardet<4,>=3.0.2 in /usr/local/lib/python3.7/dist-packages (from requests->transformers) (3.0.4)\n",
      "Requirement already satisfied: certifi>=2017.4.17 in /usr/local/lib/python3.7/dist-packages (from requests->transformers) (2022.9.24)\n",
      "Looking in indexes: https://pypi.org/simple, https://us-python.pkg.dev/colab-wheels/public/simple/\n",
      "Requirement already satisfied: ufal.udpipe in /usr/local/lib/python3.7/dist-packages (1.2.0.3)\n",
      "Looking in indexes: https://pypi.org/simple, https://us-python.pkg.dev/colab-wheels/public/simple/\n",
      "Collecting git+https://github.com/IINemo/isanlp.git\n",
      "  Cloning https://github.com/IINemo/isanlp.git to /tmp/pip-req-build-lzjh14f_\n",
      "  Running command git clone -q https://github.com/IINemo/isanlp.git /tmp/pip-req-build-lzjh14f_\n",
      "Requirement already satisfied: ufal.udpipe in /usr/local/lib/python3.7/dist-packages (1.2.0.3)\n",
      "Requirement already satisfied: protobuf==3.15.0 in /usr/local/lib/python3.7/dist-packages (from isanlp==0.0.7) (3.15.0)\n",
      "Requirement already satisfied: grpcio in /usr/local/lib/python3.7/dist-packages (from isanlp==0.0.7) (1.49.1)\n",
      "Requirement already satisfied: six>=1.9 in /usr/local/lib/python3.7/dist-packages (from protobuf==3.15.0->isanlp==0.0.7) (1.15.0)\n"
     ]
    }
   ]
  },
  {
   "cell_type": "code",
   "execution_count": 168,
   "outputs": [],
   "source": [
    "import torch\n",
    "from transformers import BertTokenizer, BertModel\n",
    "from isanlp.processor_udpipe import ProcessorUDPipe\n",
    "from zss import simple_distance, Node\n",
    "from sklearn.metrics.pairwise import cosine_similarity"
   ],
   "metadata": {
    "pycharm": {
     "name": "#%%\n"
    },
    "id": "zIiopULUh3aq"
   }
  },
  {
   "cell_type": "code",
   "source": [
    "examples = [\"Привет, у нас на кухне нашли плесень!\", \n",
    "            \"На нашей кухне нашли много всего: бактерии, грибки и позавчерашнее молоко.\",\n",
    "            \"Привет, у них в подвале нашли клад!\" ]"
   ],
   "metadata": {
    "id": "7Wsv3i9rEbxe"
   },
   "execution_count": 169,
   "outputs": []
  },
  {
   "cell_type": "code",
   "source": [
    "udpipe = ProcessorUDPipe('russian-syntagrus-ud-2.5-191206.udpipe') # Подключаем морфологичекий анализатор"
   ],
   "metadata": {
    "id": "eqKKpNsODEuT"
   },
   "execution_count": 170,
   "outputs": []
  },
  {
   "cell_type": "code",
   "source": [
    "def pos_dep_tree(postags, syntax_dep_tree):\n",
    "    \"\"\" Конвертируем результат морфосинтаксического анализа в zss-дерево из частей речи и синтаксических связей\n",
    "    NOUN -> advmod -> VERB \"\"\"\n",
    "    \n",
    "    root = Node('root')\n",
    "    pos_nodes = {-1: root}\n",
    "    for i, postag in enumerate(postags):\n",
    "        pos_nodes[i] = Node(postag)\n",
    "    \n",
    "    for i, dependency_edge in enumerate(syntax_dep_tree):\n",
    "        # Здесь в зависимости от выбранного формата синтаксических аннотаций заполняем граф значениями\n",
    "        # <синтаксическое отношение, порядковый номер вершины (токена), порядковый номер его родительской вершины>\n",
    "        relation = dependency_edge.link_name\n",
    "        index = i\n",
    "        parent_index = dependency_edge.parent\n",
    "        \n",
    "        relation_node = Node(relation)\n",
    "        pos_nodes[parent_index].addkid(relation_node)\n",
    "        relation_node.addkid(pos_nodes[index])\n",
    "    \n",
    "    return root\n",
    "\n",
    "def sent_dep_tree(sent):\n",
    "    \"\"\" Получаем список постегов и список синтаксических аннотаций слов предложения, полученные выбранным анализатором (или анализаторами) \"\"\"\n",
    "   \n",
    "    result = udpipe(sent)\n",
    "    postags = result['postag'][0]\n",
    "    syntax_dep_tree = result['syntax_dep_tree'][0]\n",
    "    \n",
    "    return pos_dep_tree(postags, syntax_dep_tree)\n",
    "\n",
    "def dep_tree_similarity(dep1, dep2, smoothing=5.0):\n",
    "    return smoothing / (smoothing + simple_distance(dep1, dep2))\n",
    "\n",
    "def sentence_similarity(sent1, sent2, smoothing=5.0):\n",
    "    return dep_tree_similarity(sent_dep_tree(sent1), sent_dep_tree(sent2), smoothing)"
   ],
   "metadata": {
    "id": "KdjslyIuLGw1"
   },
   "execution_count": 171,
   "outputs": []
  },
  {
   "cell_type": "code",
   "source": [
    "for pair in [[0, 1], [1, 2], [0, 2]]:\n",
    "    print((examples[pair[0]], examples[pair[1]],\n",
    "           sentence_similarity(examples[pair[0]], examples[pair[1]])))"
   ],
   "metadata": {
    "colab": {
     "base_uri": "https://localhost:8080/"
    },
    "id": "cggi0QxqNr9B",
    "outputId": "ad1a79c0-8e19-440d-c9fb-2bfdf44da6d9"
   },
   "execution_count": 172,
   "outputs": [
    {
     "output_type": "stream",
     "name": "stdout",
     "text": [
      "('Привет, у нас на кухне нашли плесень!', 'На нашей кухне нашли много всего: бактерии, грибки и позавчерашнее молоко.', 0.05263157894736842)\n",
      "('На нашей кухне нашли много всего: бактерии, грибки и позавчерашнее молоко.', 'Привет, у них в подвале нашли клад!', 0.05263157894736842)\n",
      "('Привет, у нас на кухне нашли плесень!', 'Привет, у них в подвале нашли клад!', 1.0)\n"
     ]
    }
   ]
  },
  {
   "cell_type": "code",
   "execution_count": 173,
   "outputs": [],
   "source": [
    "tokenizer = BertTokenizer.from_pretrained('DeepPavlov/rubert-base-cased-sentence')\n",
    "model = BertModel.from_pretrained('DeepPavlov/rubert-base-cased-sentence')"
   ],
   "metadata": {
    "pycharm": {
     "name": "#%%\n"
    },
    "id": "3FjBKCxBh3ar"
   }
  },
  {
   "cell_type": "code",
   "source": [
    "def embed_sentence(sentence: str):\n",
    "    input_ids = tokenizer(sentence)  # Токенизация\n",
    "    outputs =  model.forward(torch.tensor([input_ids['input_ids']])) # Предсказания модели\n",
    "    return torch.mean(outputs[0].detach(), axis=0).numpy()"
   ],
   "metadata": {
    "id": "cREL2YKDtmzd"
   },
   "execution_count": 174,
   "outputs": []
  },
  {
   "cell_type": "code",
   "source": [
    "embedded_examples = [embed_sentence(sent) for sent in examples]"
   ],
   "metadata": {
    "id": "k_eqahOutqA9"
   },
   "execution_count": 175,
   "outputs": []
  },
  {
   "cell_type": "code",
   "source": [
    "embedded_examples "
   ],
   "metadata": {
    "colab": {
     "base_uri": "https://localhost:8080/"
    },
    "id": "gpC1LL0Oujj1",
    "outputId": "9db5151b-eaea-4082-9e98-f482e5e0c151"
   },
   "execution_count": 176,
   "outputs": [
    {
     "output_type": "execute_result",
     "data": {
      "text/plain": [
       "[array([[-0.7679099 , -0.39528573, -0.32386765, ..., -0.24590759,\n",
       "         -1.0639223 ,  0.67690706],\n",
       "        [-0.6216488 , -0.3756859 , -0.09958875, ..., -0.32701218,\n",
       "         -1.0036204 ,  0.81859404],\n",
       "        [-0.69259816, -0.21249032, -0.21213473, ..., -0.3714689 ,\n",
       "         -1.045823  ,  0.8058061 ],\n",
       "        ...,\n",
       "        [-0.7504629 , -0.4188759 , -0.09141711, ...,  0.09274261,\n",
       "         -1.063937  ,  0.70093745],\n",
       "        [-0.70663464, -0.3052379 , -0.2598623 , ..., -0.26921755,\n",
       "         -1.0927025 ,  0.79551506],\n",
       "        [-0.7382749 , -0.39041314, -0.29134142, ..., -0.27106404,\n",
       "         -1.1052116 ,  0.74953806]], dtype=float32),\n",
       " array([[-0.9968567 ,  0.2967537 , -0.10190902, ..., -0.8692864 ,\n",
       "         -0.24060129,  1.0921069 ],\n",
       "        [-0.94869274,  0.16572472,  0.43090323, ..., -0.69339085,\n",
       "         -0.40038162,  1.0761354 ],\n",
       "        [-1.1345026 ,  0.03838572,  0.4234135 , ..., -0.96489763,\n",
       "         -0.38352928,  0.7272421 ],\n",
       "        ...,\n",
       "        [-1.106046  ,  0.25641626,  0.6448303 , ..., -0.87919813,\n",
       "         -0.4118539 ,  0.8077364 ],\n",
       "        [-1.0145842 ,  0.26342267, -0.08303389, ..., -0.91467285,\n",
       "         -0.24279937,  1.1237345 ],\n",
       "        [-0.9910418 ,  0.27952275, -0.04085524, ..., -0.95548207,\n",
       "         -0.31580812,  1.15388   ]], dtype=float32),\n",
       " array([[-0.62421304, -1.4083222 , -0.39141598, ...,  0.84162635,\n",
       "         -0.66023254,  0.99567586],\n",
       "        [-0.55418307, -1.349498  , -0.3913417 , ...,  0.71810144,\n",
       "         -0.5779031 ,  1.3260028 ],\n",
       "        [-0.5952759 , -1.182326  , -0.43465874, ...,  0.607298  ,\n",
       "         -0.6824925 ,  1.2059141 ],\n",
       "        ...,\n",
       "        [-0.68943226, -1.3329309 , -0.6284291 , ...,  1.1007142 ,\n",
       "         -0.49735552,  1.1559696 ],\n",
       "        [-0.5697522 , -1.3123503 , -0.4346792 , ...,  0.8058678 ,\n",
       "         -0.7057801 ,  1.2028568 ],\n",
       "        [-0.6080669 , -1.3820779 , -0.4324236 , ...,  0.78328925,\n",
       "         -0.6868762 ,  1.1113645 ]], dtype=float32)]"
      ]
     },
     "metadata": {},
     "execution_count": 176
    }
   ]
  },
  {
   "cell_type": "code",
   "source": [
    "cos1 = cosine_similarity(embedded_examples[0], embedded_examples[1])\n",
    "cos2 = cosine_similarity(embedded_examples[0], embedded_examples[2])\n",
    "cos3 = cosine_similarity(embedded_examples[1], embedded_examples[2])"
   ],
   "metadata": {
    "id": "dUg_YcHJCOh9"
   },
   "execution_count": 177,
   "outputs": []
  },
  {
   "cell_type": "code",
   "source": [
    "cos1"
   ],
   "metadata": {
    "colab": {
     "base_uri": "https://localhost:8080/"
    },
    "id": "7uxx9Sqdu4VN",
    "outputId": "72822029-1e6a-4ea8-8fd2-e412b72e921f"
   },
   "execution_count": 178,
   "outputs": [
    {
     "output_type": "execute_result",
     "data": {
      "text/plain": [
       "array([[0.79197985, 0.7812699 , 0.749678  , 0.7661632 , 0.7735775 ,\n",
       "        0.7325072 , 0.75032043, 0.7582741 , 0.72470653, 0.75049376,\n",
       "        0.7259561 , 0.74351764, 0.7748369 , 0.7246938 , 0.7311472 ,\n",
       "        0.723818  , 0.7440981 , 0.75246865, 0.7423417 , 0.7989063 ,\n",
       "        0.80019486],\n",
       "       [0.75969076, 0.7574413 , 0.73650986, 0.7498927 , 0.7585549 ,\n",
       "        0.7216047 , 0.7368551 , 0.7382963 , 0.7131233 , 0.72616136,\n",
       "        0.708018  , 0.723561  , 0.7508731 , 0.7105566 , 0.70973957,\n",
       "        0.7076567 , 0.72312844, 0.7355712 , 0.7326196 , 0.7687979 ,\n",
       "        0.76779515],\n",
       "       [0.77001536, 0.7643764 , 0.73267835, 0.7471203 , 0.76139486,\n",
       "        0.72447705, 0.7379131 , 0.7480568 , 0.7125581 , 0.7438245 ,\n",
       "        0.71193093, 0.73199654, 0.7642445 , 0.7143956 , 0.71966535,\n",
       "        0.71473974, 0.7346383 , 0.74027187, 0.72643614, 0.77992934,\n",
       "        0.7782748 ],\n",
       "       [0.76416653, 0.78292894, 0.7424973 , 0.76028776, 0.76082027,\n",
       "        0.7200955 , 0.73042154, 0.7417915 , 0.7083766 , 0.7326265 ,\n",
       "        0.7129184 , 0.7315395 , 0.7585244 , 0.7117177 , 0.7221382 ,\n",
       "        0.7101395 , 0.7336493 , 0.74150455, 0.7295494 , 0.77419317,\n",
       "        0.77286655],\n",
       "       [0.77564883, 0.79516983, 0.78275156, 0.7908405 , 0.7716943 ,\n",
       "        0.7221512 , 0.7436128 , 0.747278  , 0.7210976 , 0.73276794,\n",
       "        0.72229636, 0.7394078 , 0.76267505, 0.72446096, 0.7356345 ,\n",
       "        0.7242156 , 0.74417794, 0.7512723 , 0.7545289 , 0.78706026,\n",
       "        0.7829754 ],\n",
       "       [0.7531474 , 0.80616015, 0.76211286, 0.79386854, 0.75023735,\n",
       "        0.69742405, 0.7191434 , 0.7274341 , 0.7126279 , 0.719063  ,\n",
       "        0.71699435, 0.73574376, 0.75218856, 0.70966095, 0.7301384 ,\n",
       "        0.70769405, 0.73608685, 0.74242246, 0.74587333, 0.7668543 ,\n",
       "        0.7647385 ],\n",
       "       [0.7562694 , 0.8021152 , 0.7727373 , 0.8281152 , 0.7590416 ,\n",
       "        0.70119727, 0.72624964, 0.7322935 , 0.7279327 , 0.7199394 ,\n",
       "        0.73109365, 0.74579275, 0.75486356, 0.7141582 , 0.73263586,\n",
       "        0.7147393 , 0.7456271 , 0.75157785, 0.769583  , 0.7715272 ,\n",
       "        0.7682358 ],\n",
       "       [0.7792187 , 0.77482736, 0.7458322 , 0.7599625 , 0.79270965,\n",
       "        0.7401328 , 0.75293064, 0.7644373 , 0.73616314, 0.75711757,\n",
       "        0.7338169 , 0.7513425 , 0.7745374 , 0.7254631 , 0.7273433 ,\n",
       "        0.72109604, 0.741777  , 0.7518203 , 0.7417418 , 0.7909428 ,\n",
       "        0.78843534],\n",
       "       [0.7715637 , 0.784367  , 0.7530905 , 0.778362  , 0.7700327 ,\n",
       "        0.7266109 , 0.74597585, 0.7596039 , 0.74859035, 0.7527943 ,\n",
       "        0.752077  , 0.75916874, 0.7719475 , 0.7248315 , 0.7318829 ,\n",
       "        0.7229128 , 0.7479676 , 0.7588447 , 0.7611918 , 0.78345025,\n",
       "        0.7834246 ],\n",
       "       [0.7680818 , 0.7764488 , 0.74406505, 0.77151644, 0.76756513,\n",
       "        0.7202357 , 0.74418175, 0.75286037, 0.74367434, 0.7487408 ,\n",
       "        0.74051356, 0.7648067 , 0.7682441 , 0.72037065, 0.72810423,\n",
       "        0.7183387 , 0.74633   , 0.75677174, 0.755252  , 0.7814811 ,\n",
       "        0.7809429 ],\n",
       "       [0.7788922 , 0.7712635 , 0.7427101 , 0.7562952 , 0.7695279 ,\n",
       "        0.7321287 , 0.74806243, 0.75673664, 0.7210353 , 0.7461518 ,\n",
       "        0.7206907 , 0.7381667 , 0.76961106, 0.71935594, 0.7227094 ,\n",
       "        0.71873844, 0.73728776, 0.74603766, 0.7357138 , 0.7909508 ,\n",
       "        0.78815323],\n",
       "       [0.79258066, 0.7851112 , 0.752413  , 0.77018154, 0.77606094,\n",
       "        0.73405117, 0.7541584 , 0.7621024 , 0.73142487, 0.754258  ,\n",
       "        0.73185587, 0.74945134, 0.7785156 , 0.7296814 , 0.73599446,\n",
       "        0.7290969 , 0.74759376, 0.75728816, 0.74758613, 0.80242705,\n",
       "        0.80589646]], dtype=float32)"
      ]
     },
     "metadata": {},
     "execution_count": 178
    }
   ]
  },
  {
   "cell_type": "code",
   "source": [
    "cos2"
   ],
   "metadata": {
    "colab": {
     "base_uri": "https://localhost:8080/"
    },
    "id": "pn0xYKbUx_Eo",
    "outputId": "5c3f11b2-66f0-4e73-8532-c10ec1b2a0b7"
   },
   "execution_count": 179,
   "outputs": [
    {
     "output_type": "execute_result",
     "data": {
      "text/plain": [
       "array([[0.64730203, 0.6325179 , 0.6395512 , 0.60721326, 0.6170237 ,\n",
       "        0.56780547, 0.55887425, 0.6103828 , 0.5857983 , 0.6436064 ,\n",
       "        0.64547586],\n",
       "       [0.63695395, 0.6694405 , 0.6481686 , 0.6093193 , 0.6181234 ,\n",
       "        0.5637252 , 0.5600145 , 0.61027676, 0.5920855 , 0.647451  ,\n",
       "        0.6364725 ],\n",
       "       [0.644772  , 0.64810437, 0.6618557 , 0.6158575 , 0.6220916 ,\n",
       "        0.5660806 , 0.5570712 , 0.61364377, 0.5871022 , 0.6499467 ,\n",
       "        0.6428431 ],\n",
       "       [0.657814  , 0.6517589 , 0.66281044, 0.6516897 , 0.6394964 ,\n",
       "        0.59529483, 0.5839717 , 0.63043195, 0.60640174, 0.65985626,\n",
       "        0.6567203 ],\n",
       "       [0.6509574 , 0.64928913, 0.652112  , 0.6246124 , 0.64132994,\n",
       "        0.592481  , 0.5853598 , 0.6260165 , 0.5998993 , 0.6546117 ,\n",
       "        0.64833564],\n",
       "       [0.66038823, 0.6450465 , 0.6516701 , 0.6393368 , 0.6441302 ,\n",
       "        0.62777853, 0.61514986, 0.64177233, 0.6182411 , 0.65933555,\n",
       "        0.6600747 ],\n",
       "       [0.6461258 , 0.6395905 , 0.63661265, 0.6207274 , 0.6328558 ,\n",
       "        0.61192393, 0.6103462 , 0.63024634, 0.6157131 , 0.64744484,\n",
       "        0.6467168 ],\n",
       "       [0.64158976, 0.63627386, 0.6390935 , 0.6105544 , 0.6202923 ,\n",
       "        0.57317966, 0.56715214, 0.62880826, 0.5965917 , 0.6443445 ,\n",
       "        0.6413531 ],\n",
       "       [0.62947005, 0.62654257, 0.6235403 , 0.601033  , 0.6089748 ,\n",
       "        0.57160944, 0.56975114, 0.60835385, 0.5924198 , 0.63062525,\n",
       "        0.63034666],\n",
       "       [0.63933575, 0.6345078 , 0.63306844, 0.60891193, 0.6192376 ,\n",
       "        0.5832345 , 0.5792292 , 0.6194732 , 0.6011188 , 0.63916385,\n",
       "        0.6407268 ],\n",
       "       [0.64293987, 0.6409828 , 0.64334464, 0.60864466, 0.61732876,\n",
       "        0.566224  , 0.5585921 , 0.61237526, 0.5880054 , 0.6521507 ,\n",
       "        0.642508  ],\n",
       "       [0.653427  , 0.6380534 , 0.6433791 , 0.6150354 , 0.62403995,\n",
       "        0.5793686 , 0.5701592 , 0.6186926 , 0.59549445, 0.64983153,\n",
       "        0.65589434]], dtype=float32)"
      ]
     },
     "metadata": {},
     "execution_count": 179
    }
   ]
  },
  {
   "cell_type": "code",
   "source": [
    "cos3"
   ],
   "metadata": {
    "colab": {
     "base_uri": "https://localhost:8080/"
    },
    "id": "u8u4gkkfyWn2",
    "outputId": "6aa30784-d750-49d9-e173-6ca4176b4ffa"
   },
   "execution_count": 180,
   "outputs": [
    {
     "output_type": "execute_result",
     "data": {
      "text/plain": [
       "array([[0.5654497 , 0.5476584 , 0.5518031 , 0.5242658 , 0.544254  ,\n",
       "        0.48726243, 0.48911625, 0.537826  , 0.5131564 , 0.5591322 ,\n",
       "        0.56438786],\n",
       "       [0.5665155 , 0.5560533 , 0.5581775 , 0.5452387 , 0.5584916 ,\n",
       "        0.5241872 , 0.52365077, 0.5528806 , 0.5318825 , 0.5660937 ,\n",
       "        0.56727636],\n",
       "       [0.54576635, 0.54509956, 0.53647196, 0.51917195, 0.5445626 ,\n",
       "        0.49957457, 0.5064206 , 0.5341276 , 0.5130503 , 0.54834366,\n",
       "        0.545914  ],\n",
       "       [0.55065763, 0.5482149 , 0.54123855, 0.5261242 , 0.5461197 ,\n",
       "        0.5168573 , 0.52545893, 0.5418146 , 0.53158224, 0.55302197,\n",
       "        0.5524949 ],\n",
       "       [0.54830027, 0.54523623, 0.54452574, 0.5219727 , 0.53858775,\n",
       "        0.48486623, 0.4896215 , 0.54827034, 0.51678663, 0.55041254,\n",
       "        0.54858625],\n",
       "       [0.5133171 , 0.51118296, 0.5133646 , 0.48707423, 0.50417125,\n",
       "        0.44232512, 0.44550148, 0.50127673, 0.47466135, 0.5177894 ,\n",
       "        0.5140414 ],\n",
       "       [0.53302336, 0.53001535, 0.5282191 , 0.4992582 , 0.52318496,\n",
       "        0.46736404, 0.47006112, 0.5173492 , 0.49299404, 0.5343605 ,\n",
       "        0.53378856],\n",
       "       [0.54067385, 0.5322726 , 0.5387741 , 0.5117701 , 0.52976644,\n",
       "        0.47128218, 0.47461304, 0.52573884, 0.500481  , 0.5431813 ,\n",
       "        0.54140145],\n",
       "       [0.52195394, 0.5215477 , 0.51728487, 0.49229845, 0.51810294,\n",
       "        0.46821344, 0.47874808, 0.51247215, 0.49880257, 0.52197   ,\n",
       "        0.52386415],\n",
       "       [0.5449129 , 0.5327924 , 0.5468349 , 0.5139743 , 0.5321978 ,\n",
       "        0.4758377 , 0.47943664, 0.52791893, 0.5056548 , 0.54352134,\n",
       "        0.5454675 ],\n",
       "       [0.50582856, 0.50165635, 0.5018099 , 0.4799059 , 0.5033323 ,\n",
       "        0.45221722, 0.46204713, 0.49433866, 0.48060638, 0.50563943,\n",
       "        0.50742584],\n",
       "       [0.5278546 , 0.5210451 , 0.5253407 , 0.5021035 , 0.52233404,\n",
       "        0.47496498, 0.47981757, 0.51677144, 0.49890393, 0.5277106 ,\n",
       "        0.52908266],\n",
       "       [0.55094445, 0.54009277, 0.5470951 , 0.52021426, 0.53710914,\n",
       "        0.48333165, 0.48550737, 0.53384423, 0.51154125, 0.5516855 ,\n",
       "        0.552905  ],\n",
       "       [0.5140921 , 0.51179343, 0.50965977, 0.48840588, 0.50695324,\n",
       "        0.45209342, 0.45531672, 0.5003173 , 0.4752543 , 0.51526487,\n",
       "        0.51681393],\n",
       "       [0.5097714 , 0.5008697 , 0.5049694 , 0.48510805, 0.5033103 ,\n",
       "        0.4576016 , 0.45781815, 0.49373972, 0.46773043, 0.50904316,\n",
       "        0.5118792 ],\n",
       "       [0.5105367 , 0.50716794, 0.5074419 , 0.48394433, 0.5038365 ,\n",
       "        0.44843903, 0.45356303, 0.49396873, 0.47397554, 0.5126985 ,\n",
       "        0.51398355],\n",
       "       [0.5277142 , 0.51952535, 0.5260625 , 0.5040991 , 0.52056223,\n",
       "        0.47129095, 0.4747009 , 0.5138095 , 0.49087104, 0.5287004 ,\n",
       "        0.52928424],\n",
       "       [0.53272355, 0.52709305, 0.52806216, 0.50592345, 0.5220449 ,\n",
       "        0.47319818, 0.4782482 , 0.51812303, 0.49791825, 0.5333938 ,\n",
       "        0.5347993 ],\n",
       "       [0.5270739 , 0.5305858 , 0.51959515, 0.49850142, 0.5192754 ,\n",
       "        0.47957537, 0.49098167, 0.51548374, 0.50930876, 0.5277247 ,\n",
       "        0.53000295],\n",
       "       [0.5709194 , 0.5553198 , 0.559896  , 0.5323713 , 0.55262053,\n",
       "        0.49915782, 0.50058514, 0.5478413 , 0.5234452 , 0.57029045,\n",
       "        0.57262033],\n",
       "       [0.5679896 , 0.5502731 , 0.5541302 , 0.52794135, 0.5467756 ,\n",
       "        0.4927168 , 0.4939291 , 0.5409822 , 0.518431  , 0.5627766 ,\n",
       "        0.5717133 ]], dtype=float32)"
      ]
     },
     "metadata": {},
     "execution_count": 180
    }
   ]
  },
  {
   "cell_type": "code",
   "source": [],
   "metadata": {
    "id": "qWtUE0flyYnt"
   },
   "execution_count": null,
   "outputs": []
  }
 ],
 "metadata": {
  "kernelspec": {
   "display_name": "Python 3",
   "language": "python",
   "name": "python3"
  },
  "language_info": {
   "codemirror_mode": {
    "name": "ipython",
    "version": 2
   },
   "file_extension": ".py",
   "mimetype": "text/x-python",
   "name": "python",
   "nbconvert_exporter": "python",
   "pygments_lexer": "ipython2",
   "version": "2.7.6"
  },
  "colab": {
   "provenance": [],
   "collapsed_sections": []
  }
 },
 "nbformat": 4,
 "nbformat_minor": 0
}