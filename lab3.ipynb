{
 "cells": [
  {
   "cell_type": "markdown",
   "source": [
    "\n",
    "\n",
    "<H1>Методы интеллектуального анализа текстов</H1>\n",
    "<H2>Тема 3. Коррекция очепяток</H2>\n",
    "\n",
    "\n"
   ],
   "metadata": {
    "collapsed": false
   }
  },
  {
   "cell_type": "markdown",
   "source": [
    "### Задание 3:\n",
    "Написать функцию генерации опечаток в соответствии с положением знаков на клавиатуре."
   ],
   "metadata": {
    "collapsed": false,
    "pycharm": {
     "name": "#%% md\n"
    }
   }
  },
  {
   "cell_type": "markdown",
   "source": [
    "Импортируем нужные библиотеки."
   ],
   "metadata": {
    "collapsed": false,
    "pycharm": {
     "name": "#%% md\n"
    }
   }
  },
  {
   "cell_type": "code",
   "execution_count": 75,
   "outputs": [],
   "source": [
    "import re\n",
    "import random as rd"
   ],
   "metadata": {
    "collapsed": false,
    "pycharm": {
     "name": "#%%\n"
    }
   }
  },
  {
   "cell_type": "markdown",
   "source": [
    "Записываем в переменную предложение, где нужно сгенерировать ошибки."
   ],
   "metadata": {
    "collapsed": false,
    "pycharm": {
     "name": "#%% md\n"
    }
   }
  },
  {
   "cell_type": "code",
   "execution_count": 76,
   "outputs": [],
   "source": [
    "sent = 'А что? Так можно было?'  # sent = input()"
   ],
   "metadata": {
    "collapsed": false,
    "pycharm": {
     "name": "#%%\n"
    }
   }
  },
  {
   "cell_type": "markdown",
   "source": [
    "Проверяем на каком языке было введено предложение."
   ],
   "metadata": {
    "collapsed": false,
    "pycharm": {
     "name": "#%% md\n"
    }
   }
  },
  {
   "cell_type": "code",
   "execution_count": 77,
   "outputs": [],
   "source": [
    "reg_en = re.compile(r'[a-zA-Z]')\n",
    "reg_ru = re.compile(r'[а-яА-я]')\n",
    "\n",
    "if reg_en.match(sent):\n",
    "    lang = 'EN'\n",
    "elif reg_ru.match(sent):\n",
    "    lang = 'RU'\n",
    "else:\n",
    "    raise NameError('No Supported Language Found')"
   ],
   "metadata": {
    "collapsed": false,
    "pycharm": {
     "name": "#%%\n"
    }
   }
  },
  {
   "cell_type": "markdown",
   "source": [
    "Списки символов с клавиатуры."
   ],
   "metadata": {
    "collapsed": false,
    "pycharm": {
     "name": "#%% md\n"
    }
   }
  },
  {
   "cell_type": "code",
   "execution_count": 78,
   "outputs": [],
   "source": [
    "keylist_en = [['1', '2', '3', '4', '5', '6', '7', '8', '8', '0', '-', '='],\n",
    "              ['q', 'w', 'e', 'r', 't', 'y', 'u', 'i', 'o', 'p', '[', ']'],\n",
    "              ['a', 's', 'd', 'f', 'g', 'h', 'j', 'k', 'l', ';', '\\'', '\\\\'],\n",
    "              ['z', 'x', 'c', 'v', 'b', 'n', 'm', ',', '.', '/']]\n",
    "\n",
    "keylist_ru = [['1', '2', '3', '4', '5', '6', '7', '8', '8', '0', '-', '='],\n",
    "              ['й', 'ц', 'у', 'к', 'е', 'н', 'г', 'ш', 'щ', 'з', 'х', 'ъ'],\n",
    "              ['ф', 'ы', 'в', 'а', 'п', 'р', 'о', 'л', 'д', 'ж', 'э', '\\\\'],\n",
    "              ['я', 'ч', 'с', 'м', 'и', 'т', 'ь', 'б', 'ю', '.']]"
   ],
   "metadata": {
    "collapsed": false,
    "pycharm": {
     "name": "#%%\n"
    }
   }
  },
  {
   "cell_type": "markdown",
   "source": [
    "Функция генерации опечаток."
   ],
   "metadata": {
    "collapsed": false,
    "pycharm": {
     "name": "#%% md\n"
    }
   }
  },
  {
   "cell_type": "code",
   "execution_count": 104,
   "outputs": [],
   "source": [
    "def generate_typos(keylist, sentence):\n",
    "    p_typo = 0.270  # Вероятность появления опечатки\n",
    "    sentence_w_typos = ''  # Переменная для нового предложения с опечатками\n",
    "\n",
    "    # Основной цикл перебора символов в исходном тексте\n",
    "    for sym in sentence:\n",
    "        # Определяем будет ли опечатка или нет.\n",
    "        if p_typo < rd.random() or sym == ' ':\n",
    "            sentence_w_typos += ''.join(sym)\n",
    "            continue\n",
    "\n",
    "        # Определяем находится ли символ в нижнем регистре\n",
    "        if sym.islower():\n",
    "            low_flag = True\n",
    "        else:\n",
    "            low_flag = False\n",
    "\n",
    "        # Находим символ в списке символов и записываем его позицию\n",
    "        found_flag = False\n",
    "        for line in keylist:\n",
    "            if sym.lower() in line:\n",
    "                sym_pos = line.index(sym.lower())\n",
    "                line_pos = keylist.index(line)\n",
    "                found_flag = True\n",
    "                break\n",
    "\n",
    "        # Если символ не найден, то оставляем этот символ\n",
    "        if not found_flag:\n",
    "            sentence_w_typos += ''.join(sym)\n",
    "            continue\n",
    "\n",
    "        # Пробуем получить значения соседних элементов обрабатываемого символа\n",
    "        # В случае успеха, записываем эти значения в массив возможных опечаток\n",
    "        typos_list = []\n",
    "        for i in range(-1, 1):\n",
    "            for j in range(-1, 1):\n",
    "                try:\n",
    "                    typos_list.append(keylist[line_pos + i][sym_pos + j])\n",
    "                except IndexError:\n",
    "                    pass\n",
    "\n",
    "        # Случайно выбираем, какой символ (из возможных) поставить вместо исходного,\n",
    "        # учитывая исходный регистр\n",
    "        p_typo_var = rd.randint(1, len(typos_list) - 1)\n",
    "        if low_flag:\n",
    "            sentence_w_typos += ''.join(typos_list[p_typo_var].lower())\n",
    "        else:\n",
    "            sentence_w_typos += ''.join(typos_list[p_typo_var].upper())\n",
    "\n",
    "    return sentence_w_typos"
   ],
   "metadata": {
    "collapsed": false,
    "pycharm": {
     "name": "#%%\n"
    }
   }
  },
  {
   "cell_type": "markdown",
   "source": [
    "Используем нашу функцию в зависимости от исходного языка."
   ],
   "metadata": {
    "collapsed": false,
    "pycharm": {
     "name": "#%% md\n"
    }
   }
  },
  {
   "cell_type": "code",
   "execution_count": 109,
   "outputs": [],
   "source": [
    "if lang == 'EN':\n",
    "    typo_message = generate_typos(keylist_en, sent)\n",
    "else:\n",
    "    typo_message = generate_typos(keylist_ru, sent)"
   ],
   "metadata": {
    "collapsed": false,
    "pycharm": {
     "name": "#%%\n"
    }
   }
  },
  {
   "cell_type": "code",
   "execution_count": 121,
   "outputs": [
    {
     "name": "stdout",
     "output_type": "stream",
     "text": [
      "А чтг? Так сож6о былг?\n"
     ]
    }
   ],
   "source": [
    "print(typo_message)"
   ],
   "metadata": {
    "collapsed": false,
    "pycharm": {
     "name": "#%%\n"
    }
   }
  },
  {
   "cell_type": "markdown",
   "source": [
    "### Задание 4:\n",
    "Написать функцию сравнения векторов, составленных из частотностей входящих в слово букв (CountVectorizer). Помимо верных вариантов слов из примеров использовать в небольшом словаре своего метода дополнительно похожие и непохожие на верные слова русского языка."
   ],
   "metadata": {
    "collapsed": false,
    "pycharm": {
     "name": "#%% md\n"
    }
   }
  },
  {
   "cell_type": "markdown",
   "source": [
    "Импортируем нужные библиотеки."
   ],
   "metadata": {
    "collapsed": false
   }
  },
  {
   "cell_type": "code",
   "execution_count": 281,
   "outputs": [],
   "source": [
    "from sklearn.feature_extraction.text import CountVectorizer\n",
    "from sklearn.metrics.pairwise import cosine_similarity\n",
    "import numpy as np\n",
    "import pandas as pd"
   ],
   "metadata": {
    "collapsed": false,
    "pycharm": {
     "name": "#%%\n"
    }
   }
  },
  {
   "cell_type": "markdown",
   "source": [
    "Функция сравнения векторов."
   ],
   "metadata": {
    "collapsed": false
   }
  },
  {
   "cell_type": "code",
   "execution_count": 299,
   "outputs": [],
   "source": [
    "def vector_compare(w1, w2):\n",
    "    # Используем CountVectorizer с посимвольным анализатором с диапазоном n-грамм от 1 до 2 символов\n",
    "    vectorizer = CountVectorizer(analyzer='char', ngram_range=(1, 2))\n",
    "    terms = vectorizer.fit_transform([w1, w2]) # Получим термины наших слов\n",
    "    terms_4_cos = terms.toarray() # Преобразуем в массив для удобства последующих манипуляций\n",
    "    terms = terms_4_cos.tolist() #  Преобразуем в список для удобства последующих манипуляций\n",
    "\n",
    "    # Добавляем слова в список для более красивого и наглядного вывода\n",
    "    terms[0].insert(0, w1)\n",
    "    terms[1].insert(0, w2)\n",
    "\n",
    "    # Получаем названия фич для преобразований\n",
    "    features = list(vectorizer.get_feature_names_out())\n",
    "    features.insert(0, '') # Добавляем пустой блок, чтобы выровнять списки при выводе\n",
    "\n",
    "    # Объединяем списки в один\n",
    "    terms.insert(0, features)\n",
    "\n",
    "    # Создаем датафрейм с нашим списком\n",
    "    df = pd.DataFrame(terms)\n",
    "    # Выводим датафрейм без индексов и без заголовков\n",
    "    print(df.to_string(index=False, header=False))\n",
    "\n",
    "\n",
    "    first_vector = np.array(terms_4_cos[0]) # Помещаем в массив первый вектор\n",
    "    second_vector = np.array(terms_4_cos[1]) # Помещаем в массив второй вектор\n",
    "    result = cosine_similarity(first_vector.reshape(1, -1), second_vector.reshape(1, -1))\n",
    "    print('Косинусная близость между векторами: ', result[0][0], end='\\n')"
   ],
   "metadata": {
    "collapsed": false,
    "pycharm": {
     "name": "#%%\n"
    }
   }
  },
  {
   "cell_type": "code",
   "execution_count": 300,
   "outputs": [
    {
     "name": "stdout",
     "output_type": "stream",
     "text": [
      "        в во д е ев ер и ир о од п пе пи р ре\n",
      "Перевод 1  1 1 2  1  1 0  0 1  1 1  1  0 1  1\n",
      "Пиревод 1  1 1 1  1  0 1  1 1  1 1  0  1 1  1\n",
      "Косинусная близость между векторами:  0.7877263614433762\n",
      "          е ер ет и ин н не нт р рн т те\n",
      "интернете 3  1  1 1  1 2  1  1 1  1 2  2\n",
      "    инете 2  0  1 1  1 1  1  0 0  0 1  1\n",
      "Косинусная близость между векторами:  0.8958280175293669\n",
      "      е л лу т тш у ут уч ч чш ш ше\n",
      "лучше 1 1  1 0  0 1  0  1 1  1 1  1\n",
      "лутше 1 1  1 1  1 1  1  0 0  0 1  1\n",
      "Косинусная близость между векторами:  0.6666666666666667\n",
      "        в во з зв н о оз он с со сс\n",
      " созвон 1  1 1  1 1 2  1  1 1  1  0\n",
      "ссозвон 1  1 1  1 1 2  1  1 2  1  1\n",
      "Косинусная близость между векторами:  0.9417419115948376\n",
      "         а ат е еп еч к ка о оп оч п пе пя т тк ч ча че я ят\n",
      "Опечатка 2  1 1  0  1 1  1 1  1  0 1  1  0 1  1 1  1  0 0  0\n",
      "Очепятка 1  0 1  1  0 1  1 1  0  1 1  0  1 1  1 1  0  1 1  1\n",
      "Косинусная близость между векторами:  0.6262242910851494\n"
     ]
    }
   ],
   "source": [
    "vector_compare('Перевод', 'Пиревод')\n",
    "vector_compare('интернете', 'инете')\n",
    "vector_compare('лучше', 'лутше')\n",
    "vector_compare('созвон', 'ссозвон')\n",
    "vector_compare('Опечатка', 'Очепятка')\n",
    "#vector_compare('частнопредпринимательский', 'частнапридпренемательской')"
   ],
   "metadata": {
    "collapsed": false,
    "pycharm": {
     "name": "#%%\n"
    }
   }
  },
  {
   "cell_type": "code",
   "execution_count": null,
   "outputs": [],
   "source": [],
   "metadata": {
    "collapsed": false,
    "pycharm": {
     "name": "#%%\n"
    }
   }
  }
 ],
 "metadata": {
  "kernelspec": {
   "display_name": "Python 3",
   "language": "python",
   "name": "python3"
  },
  "language_info": {
   "codemirror_mode": {
    "name": "ipython",
    "version": 2
   },
   "file_extension": ".py",
   "mimetype": "text/x-python",
   "name": "python",
   "nbconvert_exporter": "python",
   "pygments_lexer": "ipython2",
   "version": "2.7.6"
  }
 },
 "nbformat": 4,
 "nbformat_minor": 0
}