{
 "cells": [
  {
   "cell_type": "markdown",
   "source": [
    "### Задание 4:\n",
    "Обучить fasttext-классификатор, сравнить качество классификации с предобученными эмбеддингами и обученными с нуля при классификации.\n"
   ],
   "metadata": {
    "collapsed": false,
    "pycharm": {
     "name": "#%% md\n"
    },
    "id": "OvY2AWS3h3ap"
   }
  },
  {
   "cell_type": "markdown",
   "source": [
    "Данные для обучения моделей:"
   ],
   "metadata": {
    "collapsed": false,
    "pycharm": {
     "name": "#%% md\n"
    }
   }
  },
  {
   "cell_type": "code",
   "execution_count": 1,
   "outputs": [
    {
     "name": "stdout",
     "output_type": "stream",
     "text": [
      "--2022-10-23 19:34:57--  https://www.dropbox.com/s/t1gs701zvqaxqnk/rusentiment_random_posts.csv\r\n",
      "Resolving www.dropbox.com (www.dropbox.com)... 162.125.70.18\r\n",
      "Connecting to www.dropbox.com (www.dropbox.com)|162.125.70.18|:443... connected.\r\n",
      "HTTP request sent, awaiting response... 302 Found\r\n",
      "Location: /s/raw/t1gs701zvqaxqnk/rusentiment_random_posts.csv [following]\r\n",
      "--2022-10-23 19:34:57--  https://www.dropbox.com/s/raw/t1gs701zvqaxqnk/rusentiment_random_posts.csv\r\n",
      "Reusing existing connection to www.dropbox.com:443.\r\n",
      "HTTP request sent, awaiting response... 302 Found\r\n",
      "Location: https://ucce7fe2081a1b8df5eacabd0904.dl.dropboxusercontent.com/cd/0/inline/BvZ2aUliSuB2XXsLFwmAaEeksltKDQbxUgi5mDy0Iv81GD5HT_WPOI6Zh-0heCH7R4Rb7NqFbqZpjp8AtkRrkWRjb77OYtqA0ZmvMPUZYLto-zsbkOGihUOGWPPavAgC1vby92Rg2IcZ4EKN-cPB4afd6YelRuR5IO1L2d4eL4FFCQ/file# [following]\r\n",
      "--2022-10-23 19:34:58--  https://ucce7fe2081a1b8df5eacabd0904.dl.dropboxusercontent.com/cd/0/inline/BvZ2aUliSuB2XXsLFwmAaEeksltKDQbxUgi5mDy0Iv81GD5HT_WPOI6Zh-0heCH7R4Rb7NqFbqZpjp8AtkRrkWRjb77OYtqA0ZmvMPUZYLto-zsbkOGihUOGWPPavAgC1vby92Rg2IcZ4EKN-cPB4afd6YelRuR5IO1L2d4eL4FFCQ/file\r\n",
      "Resolving ucce7fe2081a1b8df5eacabd0904.dl.dropboxusercontent.com (ucce7fe2081a1b8df5eacabd0904.dl.dropboxusercontent.com)... 162.125.70.15\r\n",
      "Connecting to ucce7fe2081a1b8df5eacabd0904.dl.dropboxusercontent.com (ucce7fe2081a1b8df5eacabd0904.dl.dropboxusercontent.com)|162.125.70.15|:443... connected.\r\n",
      "HTTP request sent, awaiting response... 200 OK\r\n",
      "Length: 3158556 (3.0M) [text/plain]\r\n",
      "Saving to: ‘rusentiment_random_posts.csv’\r\n",
      "\r\n",
      "rusentiment_random_ 100%[===================>]   3.01M  8.07MB/s    in 0.4s    \r\n",
      "\r\n",
      "2022-10-23 19:34:59 (8.07 MB/s) - ‘rusentiment_random_posts.csv’ saved [3158556/3158556]\r\n",
      "\r\n"
     ]
    }
   ],
   "source": [
    "! wget https: // www.dropbox.com / s / t1gs701zvqaxqnk / rusentiment_random_posts.csv"
   ],
   "metadata": {
    "collapsed": false,
    "pycharm": {
     "name": "#%%\n"
    }
   }
  },
  {
   "cell_type": "markdown",
   "source": [
    "Данные для тестирования моделей:"
   ],
   "metadata": {
    "collapsed": false,
    "pycharm": {
     "name": "#%% md\n"
    }
   }
  },
  {
   "cell_type": "code",
   "execution_count": 2,
   "outputs": [
    {
     "name": "stdout",
     "output_type": "stream",
     "text": [
      "--2022-10-23 19:35:05--  https://www.dropbox.com/s/gr4z1x39y1j6dtx/rusentiment_test.csv\r\n",
      "Resolving www.dropbox.com (www.dropbox.com)... 162.125.70.18\r\n",
      "Connecting to www.dropbox.com (www.dropbox.com)|162.125.70.18|:443... connected.\r\n",
      "HTTP request sent, awaiting response... 302 Found\r\n",
      "Location: /s/raw/gr4z1x39y1j6dtx/rusentiment_test.csv [following]\r\n",
      "--2022-10-23 19:35:05--  https://www.dropbox.com/s/raw/gr4z1x39y1j6dtx/rusentiment_test.csv\r\n",
      "Reusing existing connection to www.dropbox.com:443.\r\n",
      "HTTP request sent, awaiting response... 302 Found\r\n",
      "Location: https://ucccf175e73dcdcbcaffc0d63b47.dl.dropboxusercontent.com/cd/0/inline/BvZw9F8P86GgS16AeMlR_GNnKM3Flljne74Ev94HuHOqjQMgQf3duDcFBakxA--Dcm_BbtIZEhkyb03nkp4QN9aqpVXQNrqVNV3Xv2gCvr0OJhWNzHPZFJO1cnoe5kjUlmUMCG4MzE4xRI4fFNATRpDnzd7z36HDrHi1X2Jy18J99A/file# [following]\r\n",
      "--2022-10-23 19:35:06--  https://ucccf175e73dcdcbcaffc0d63b47.dl.dropboxusercontent.com/cd/0/inline/BvZw9F8P86GgS16AeMlR_GNnKM3Flljne74Ev94HuHOqjQMgQf3duDcFBakxA--Dcm_BbtIZEhkyb03nkp4QN9aqpVXQNrqVNV3Xv2gCvr0OJhWNzHPZFJO1cnoe5kjUlmUMCG4MzE4xRI4fFNATRpDnzd7z36HDrHi1X2Jy18J99A/file\r\n",
      "Resolving ucccf175e73dcdcbcaffc0d63b47.dl.dropboxusercontent.com (ucccf175e73dcdcbcaffc0d63b47.dl.dropboxusercontent.com)... 162.125.70.15\r\n",
      "Connecting to ucccf175e73dcdcbcaffc0d63b47.dl.dropboxusercontent.com (ucccf175e73dcdcbcaffc0d63b47.dl.dropboxusercontent.com)|162.125.70.15|:443... connected.\r\n",
      "HTTP request sent, awaiting response... 200 OK\r\n",
      "Length: 441232 (431K) [text/plain]\r\n",
      "Saving to: ‘rusentiment_test.csv’\r\n",
      "\r\n",
      "rusentiment_test.cs 100%[===================>] 430.89K  --.-KB/s    in 0.1s    \r\n",
      "\r\n",
      "2022-10-23 19:35:06 (3.32 MB/s) - ‘rusentiment_test.csv’ saved [441232/441232]\r\n",
      "\r\n"
     ]
    }
   ],
   "source": [
    "! wget https: // www.dropbox.com / s / gr4z1x39y1j6dtx / rusentiment_test.csv"
   ],
   "metadata": {
    "collapsed": false,
    "pycharm": {
     "name": "#%%\n"
    }
   }
  },
  {
   "cell_type": "markdown",
   "source": [
    "Импортируем нужные библиотеки."
   ],
   "metadata": {
    "collapsed": false,
    "pycharm": {
     "name": "#%% md\n"
    },
    "id": "EaZdA9m3h3ap"
   }
  },
  {
   "cell_type": "code",
   "execution_count": 336,
   "outputs": [],
   "source": [
    "import fasttext\n",
    "import fasttext.util\n",
    "import re\n",
    "import gensim\n",
    "import numpy as np\n",
    "from sklearn.neighbors import KNeighborsClassifier\n",
    "from sklearn.metrics import f1_score"
   ],
   "metadata": {
    "collapsed": false,
    "pycharm": {
     "name": "#%%\n"
    }
   }
  },
  {
   "cell_type": "markdown",
   "source": [
    "Создаем новые файлы, чтобы туда записать исходные файлы в нужном формате."
   ],
   "metadata": {
    "collapsed": false
   }
  },
  {
   "cell_type": "code",
   "execution_count": 109,
   "outputs": [],
   "source": [
    "with open('random_posts.txt', 'w+', encoding='utf-8') as f:\n",
    "    pass\n",
    "\n",
    "with open('test.txt', 'w+', encoding='utf-8') as f:\n",
    "    pass"
   ],
   "metadata": {
    "collapsed": false,
    "pycharm": {
     "name": "#%%\n"
    }
   }
  },
  {
   "cell_type": "markdown",
   "source": [],
   "metadata": {
    "collapsed": false
   }
  },
  {
   "cell_type": "code",
   "execution_count": 130,
   "outputs": [],
   "source": [
    "labels_names = ['positive', 'negative', 'neutral', 'speech', 'skip']\n",
    "\n",
    "with open('rusentiment_random_posts.csv', 'r', encoding='utf-8') as f:\n",
    "    lines = f.readlines()\n",
    "\n",
    "with open('random_posts.txt', 'w', encoding='utf-8') as f:\n",
    "    for line in lines[1:]:\n",
    "        check = line.split(',')\n",
    "        if check[0] in labels_names:\n",
    "            line = re.sub(r'\\n', ' ', line)\n",
    "            new_line = re.split(r',', line, maxsplit=1)\n",
    "            f.write('\\n')\n",
    "            f.write('__label__')\n",
    "            f.write(new_line[0])\n",
    "            f.write(' ')\n",
    "            f.write(new_line[1])\n",
    "        else:\n",
    "            line = re.sub(r'\\n', '', line)\n",
    "            f.write(' ')\n",
    "            f.write(line)\n",
    "\n",
    "with open('rusentiment_test.csv', 'r', encoding='utf-8') as f:\n",
    "    lines = f.readlines()\n",
    "\n",
    "with open('test.txt', 'w', encoding='utf-8') as f:\n",
    "    for line in lines[1:]:\n",
    "        check = line.split(',')\n",
    "        if check[0] in labels_names:\n",
    "            line = re.sub(r'\\n', ' ', line)\n",
    "            new_line = re.split(r',', line, maxsplit=1)\n",
    "            f.write('\\n')\n",
    "            f.write('__label__')\n",
    "            f.write(new_line[0])\n",
    "            f.write(' ')\n",
    "            f.write(new_line[1])\n",
    "        else:\n",
    "            line = re.sub(r'\\n', '', line)\n",
    "            f.write(' ')\n",
    "            f.write(line)"
   ],
   "metadata": {
    "collapsed": false,
    "pycharm": {
     "name": "#%%\n"
    }
   }
  },
  {
   "cell_type": "markdown",
   "source": [
    "Удаляем первые пустые строки из файлов:"
   ],
   "metadata": {
    "collapsed": false,
    "pycharm": {
     "name": "#%% md\n"
    }
   }
  },
  {
   "cell_type": "code",
   "execution_count": 132,
   "outputs": [],
   "source": [
    "with open('test.txt', 'r') as fin:\n",
    "    data = fin.read().splitlines(True)\n",
    "with open('test.txt', 'w') as fout:\n",
    "    fout.writelines(data[1:])\n",
    "\n",
    "with open('random_posts.txt', 'r') as fin:\n",
    "    data = fin.read().splitlines(True)\n",
    "with open('random_posts.txt', 'w') as fout:\n",
    "    fout.writelines(data[1:])"
   ],
   "metadata": {
    "collapsed": false,
    "pycharm": {
     "name": "#%%\n"
    }
   }
  },
  {
   "cell_type": "code",
   "execution_count": 133,
   "outputs": [
    {
     "name": "stderr",
     "output_type": "stream",
     "text": [
      "Read 0M words\n",
      "Number of words:  92487\n",
      "Number of labels: 5\n",
      "Progress: 100.0% words/sec/thread: 1008400 lr:  0.000000 avg.loss:  0.873607 ETA:   0h 0m 0s\n"
     ]
    },
    {
     "data": {
      "text/plain": "(2967, 0.6147623862487361, 0.6147623862487361)"
     },
     "execution_count": 133,
     "metadata": {},
     "output_type": "execute_result"
    }
   ],
   "source": [
    "model = fasttext.train_supervised('random_posts.txt')\n",
    "model.test('test.txt')"
   ],
   "metadata": {
    "collapsed": false,
    "pycharm": {
     "name": "#%%\n"
    }
   }
  },
  {
   "cell_type": "markdown",
   "source": [
    "Далее используем предобученную модель от FastText:\n",
    "Скачиваем модель: <code>https://dl.fbaipublicfiles.com/fasttext/vectors-crawl/cc.ru.300.bin.gz</code>"
   ],
   "metadata": {
    "collapsed": false
   }
  },
  {
   "cell_type": "markdown",
   "source": [
    "Создаем отдельно файлы для лейблов и постов"
   ],
   "metadata": {
    "collapsed": false
   }
  },
  {
   "cell_type": "code",
   "execution_count": 156,
   "outputs": [],
   "source": [
    "with open('only_posts.txt', 'w+', encoding='utf-8') as f:\n",
    "    pass\n",
    "\n",
    "with open('only_labels.txt', 'w+', encoding='utf-8') as f:\n",
    "    pass"
   ],
   "metadata": {
    "collapsed": false,
    "pycharm": {
     "name": "#%%\n"
    }
   }
  },
  {
   "cell_type": "markdown",
   "source": [
    "Приводим файлы в нужный вид для работы векторов и классификатора"
   ],
   "metadata": {
    "collapsed": false
   }
  },
  {
   "cell_type": "code",
   "execution_count": 273,
   "outputs": [],
   "source": [
    "with open('random_posts.txt', 'r', encoding='utf-8') as f:\n",
    "    lines = f.readlines()\n",
    "\n",
    "with open('only_labels.txt', 'w', encoding='utf-8') as f:\n",
    "    for line in lines:\n",
    "        check = line.split()\n",
    "        check = check[0].split('__label__')\n",
    "        f.write(check[1] + '\\n')\n",
    "\n",
    "with open('only_posts.txt', 'w', encoding='utf-8') as f:\n",
    "    for line in lines:\n",
    "        line = re.sub(r'[^а-яА-я]+', ' ', line)\n",
    "        check = line.split(' ')\n",
    "        f.write(' '.join(check[1:]))\n",
    "        f.write('\\n')"
   ],
   "metadata": {
    "collapsed": false,
    "pycharm": {
     "name": "#%%\n"
    }
   }
  },
  {
   "cell_type": "code",
   "execution_count": 184,
   "outputs": [],
   "source": [
    "model_ = gensim.models.fasttext.load_facebook_vectors('cc.ru.300.bin')  # Загружаем модель"
   ],
   "metadata": {
    "collapsed": false,
    "pycharm": {
     "name": "#%%\n"
    }
   }
  },
  {
   "cell_type": "code",
   "execution_count": 318,
   "outputs": [],
   "source": [
    "vectors = []  # Создаем пустой список по размеру кол-ва постов\n",
    "\n",
    "with open('only_posts.txt', 'r', encoding='utf-8') as f:\n",
    "    lines = f.readlines()\n",
    "\n",
    "for line in lines:\n",
    "    # post_vector = np.zeros(shape=(300, 300)) # Создадим пустой вектор для последующей суммы векторов\n",
    "    if line == '\\n':\n",
    "        post_vector = model_[' ']\n",
    "        vectors.append(post_vector)\n",
    "        continue\n",
    "    line = line.split()\n",
    "    post_vector = model_[line[0]] * 0\n",
    "    for word in line:\n",
    "        post_vector += model_[word]\n",
    "\n",
    "    post_vector /= len(line)\n",
    "    vectors.append(post_vector)\n"
   ],
   "metadata": {
    "collapsed": false,
    "pycharm": {
     "name": "#%%\n"
    }
   }
  },
  {
   "cell_type": "code",
   "execution_count": 287,
   "outputs": [],
   "source": [
    "with open('only_labels.txt', 'r', encoding='utf-8') as f:\n",
    "    labels = f.readlines()"
   ],
   "metadata": {
    "collapsed": false,
    "pycharm": {
     "name": "#%%\n"
    }
   }
  },
  {
   "cell_type": "code",
   "execution_count": 298,
   "outputs": [],
   "source": [
    "labels = np.array(labels)"
   ],
   "metadata": {
    "collapsed": false,
    "pycharm": {
     "name": "#%%\n"
    }
   }
  },
  {
   "cell_type": "code",
   "execution_count": 315,
   "outputs": [
    {
     "data": {
      "text/plain": "KNeighborsClassifier()",
      "text/html": "<style>#sk-container-id-1 {color: black;background-color: white;}#sk-container-id-1 pre{padding: 0;}#sk-container-id-1 div.sk-toggleable {background-color: white;}#sk-container-id-1 label.sk-toggleable__label {cursor: pointer;display: block;width: 100%;margin-bottom: 0;padding: 0.3em;box-sizing: border-box;text-align: center;}#sk-container-id-1 label.sk-toggleable__label-arrow:before {content: \"▸\";float: left;margin-right: 0.25em;color: #696969;}#sk-container-id-1 label.sk-toggleable__label-arrow:hover:before {color: black;}#sk-container-id-1 div.sk-estimator:hover label.sk-toggleable__label-arrow:before {color: black;}#sk-container-id-1 div.sk-toggleable__content {max-height: 0;max-width: 0;overflow: hidden;text-align: left;background-color: #f0f8ff;}#sk-container-id-1 div.sk-toggleable__content pre {margin: 0.2em;color: black;border-radius: 0.25em;background-color: #f0f8ff;}#sk-container-id-1 input.sk-toggleable__control:checked~div.sk-toggleable__content {max-height: 200px;max-width: 100%;overflow: auto;}#sk-container-id-1 input.sk-toggleable__control:checked~label.sk-toggleable__label-arrow:before {content: \"▾\";}#sk-container-id-1 div.sk-estimator input.sk-toggleable__control:checked~label.sk-toggleable__label {background-color: #d4ebff;}#sk-container-id-1 div.sk-label input.sk-toggleable__control:checked~label.sk-toggleable__label {background-color: #d4ebff;}#sk-container-id-1 input.sk-hidden--visually {border: 0;clip: rect(1px 1px 1px 1px);clip: rect(1px, 1px, 1px, 1px);height: 1px;margin: -1px;overflow: hidden;padding: 0;position: absolute;width: 1px;}#sk-container-id-1 div.sk-estimator {font-family: monospace;background-color: #f0f8ff;border: 1px dotted black;border-radius: 0.25em;box-sizing: border-box;margin-bottom: 0.5em;}#sk-container-id-1 div.sk-estimator:hover {background-color: #d4ebff;}#sk-container-id-1 div.sk-parallel-item::after {content: \"\";width: 100%;border-bottom: 1px solid gray;flex-grow: 1;}#sk-container-id-1 div.sk-label:hover label.sk-toggleable__label {background-color: #d4ebff;}#sk-container-id-1 div.sk-serial::before {content: \"\";position: absolute;border-left: 1px solid gray;box-sizing: border-box;top: 0;bottom: 0;left: 50%;z-index: 0;}#sk-container-id-1 div.sk-serial {display: flex;flex-direction: column;align-items: center;background-color: white;padding-right: 0.2em;padding-left: 0.2em;position: relative;}#sk-container-id-1 div.sk-item {position: relative;z-index: 1;}#sk-container-id-1 div.sk-parallel {display: flex;align-items: stretch;justify-content: center;background-color: white;position: relative;}#sk-container-id-1 div.sk-item::before, #sk-container-id-1 div.sk-parallel-item::before {content: \"\";position: absolute;border-left: 1px solid gray;box-sizing: border-box;top: 0;bottom: 0;left: 50%;z-index: -1;}#sk-container-id-1 div.sk-parallel-item {display: flex;flex-direction: column;z-index: 1;position: relative;background-color: white;}#sk-container-id-1 div.sk-parallel-item:first-child::after {align-self: flex-end;width: 50%;}#sk-container-id-1 div.sk-parallel-item:last-child::after {align-self: flex-start;width: 50%;}#sk-container-id-1 div.sk-parallel-item:only-child::after {width: 0;}#sk-container-id-1 div.sk-dashed-wrapped {border: 1px dashed gray;margin: 0 0.4em 0.5em 0.4em;box-sizing: border-box;padding-bottom: 0.4em;background-color: white;}#sk-container-id-1 div.sk-label label {font-family: monospace;font-weight: bold;display: inline-block;line-height: 1.2em;}#sk-container-id-1 div.sk-label-container {text-align: center;}#sk-container-id-1 div.sk-container {/* jupyter's `normalize.less` sets `[hidden] { display: none; }` but bootstrap.min.css set `[hidden] { display: none !important; }` so we also need the `!important` here to be able to override the default hidden behavior on the sphinx rendered scikit-learn.org. See: https://github.com/scikit-learn/scikit-learn/issues/21755 */display: inline-block !important;position: relative;}#sk-container-id-1 div.sk-text-repr-fallback {display: none;}</style><div id=\"sk-container-id-1\" class=\"sk-top-container\"><div class=\"sk-text-repr-fallback\"><pre>KNeighborsClassifier()</pre><b>In a Jupyter environment, please rerun this cell to show the HTML representation or trust the notebook. <br />On GitHub, the HTML representation is unable to render, please try loading this page with nbviewer.org.</b></div><div class=\"sk-container\" hidden><div class=\"sk-item\"><div class=\"sk-estimator sk-toggleable\"><input class=\"sk-toggleable__control sk-hidden--visually\" id=\"sk-estimator-id-1\" type=\"checkbox\" checked><label for=\"sk-estimator-id-1\" class=\"sk-toggleable__label sk-toggleable__label-arrow\">KNeighborsClassifier</label><div class=\"sk-toggleable__content\"><pre>KNeighborsClassifier()</pre></div></div></div></div></div>"
     },
     "execution_count": 315,
     "metadata": {},
     "output_type": "execute_result"
    }
   ],
   "source": [
    "neigh = KNeighborsClassifier()\n",
    "neigh.fit(vectors, labels)"
   ],
   "metadata": {
    "collapsed": false,
    "pycharm": {
     "name": "#%%\n"
    }
   }
  },
  {
   "cell_type": "code",
   "execution_count": 341,
   "outputs": [],
   "source": [
    "with open('test.txt', 'r', encoding='utf-8') as f:\n",
    "    lines = f.readlines()\n",
    "\n",
    "with open('only_labels_test.txt', 'w', encoding='utf-8') as f:\n",
    "    for line in lines:\n",
    "        check = line.split()\n",
    "        check = check[0].split('__label__')\n",
    "        f.write(check[1] + '\\n')\n",
    "\n",
    "with open('only_posts_test.txt', 'w', encoding='utf-8') as f:\n",
    "    for line in lines:\n",
    "        line = re.sub(r'[^а-яА-я]+', ' ', line)\n",
    "        check = line.split(' ')\n",
    "        f.write(' '.join(check[1:]))\n",
    "        f.write('\\n')\n"
   ],
   "metadata": {
    "collapsed": false,
    "pycharm": {
     "name": "#%%\n"
    }
   }
  },
  {
   "cell_type": "code",
   "execution_count": 342,
   "outputs": [],
   "source": [
    "vectors_test = []  # Создаем пустой список по размеру кол-ва постов\n",
    "\n",
    "with open('only_posts_test.txt', 'r', encoding='utf-8') as f:\n",
    "    lines = f.readlines()\n",
    "\n",
    "for line in lines:\n",
    "    if line == '\\n':\n",
    "        post_vector = model_[' ']\n",
    "        vectors_test.append(post_vector)\n",
    "        continue\n",
    "    line = line.split()\n",
    "    post_vector = model_[line[0]] * 0\n",
    "    for word in line:\n",
    "        post_vector += model_[word]\n",
    "\n",
    "    post_vector /= len(line)\n",
    "    vectors_test.append(post_vector)\n"
   ],
   "metadata": {
    "collapsed": false,
    "pycharm": {
     "name": "#%%\n"
    }
   }
  },
  {
   "cell_type": "code",
   "execution_count": 351,
   "outputs": [],
   "source": [
    "with open('only_labels_test.txt', 'r', encoding='utf-8') as f:\n",
    "    test_labels = f.readlines()"
   ],
   "metadata": {
    "collapsed": false,
    "pycharm": {
     "name": "#%%\n"
    }
   }
  },
  {
   "cell_type": "code",
   "execution_count": 344,
   "outputs": [],
   "source": [
    "res = []\n",
    "for i in vectors_test:\n",
    "    res.append(neigh.predict([i]))"
   ],
   "metadata": {
    "collapsed": false,
    "pycharm": {
     "name": "#%%\n"
    }
   }
  },
  {
   "cell_type": "code",
   "execution_count": 352,
   "outputs": [
    {
     "data": {
      "text/plain": "0.4798556459988844"
     },
     "execution_count": 352,
     "metadata": {},
     "output_type": "execute_result"
    }
   ],
   "source": [
    "f1_score(res, test_labels, average='macro')"
   ],
   "metadata": {
    "collapsed": false,
    "pycharm": {
     "name": "#%%\n"
    }
   }
  },
  {
   "cell_type": "markdown",
   "source": [
    "Как мы можем видеть, качество классификации с предобученными эмбеддингами (**0.6147623862487361**) выше чем с обученными с нуля (**0.4798556459988844**). Разница составляет **0.13490674024985172**\n",
    "\n",
    "При анализе тональностей очень важен контекст, который крайне зачастую сложно определить машинным путем."
   ],
   "metadata": {
    "collapsed": false,
    "pycharm": {
     "name": "#%% md\n"
    }
   }
  },
  {
   "cell_type": "code",
   "execution_count": null,
   "outputs": [],
   "source": [],
   "metadata": {
    "collapsed": false,
    "pycharm": {
     "name": "#%%\n"
    }
   }
  }
 ],
 "metadata": {
  "kernelspec": {
   "display_name": "Python 3",
   "language": "python",
   "name": "python3"
  },
  "language_info": {
   "codemirror_mode": {
    "name": "ipython",
    "version": 2
   },
   "file_extension": ".py",
   "mimetype": "text/x-python",
   "name": "python",
   "nbconvert_exporter": "python",
   "pygments_lexer": "ipython2",
   "version": "2.7.6"
  },
  "colab": {
   "provenance": [],
   "collapsed_sections": []
  }
 },
 "nbformat": 4,
 "nbformat_minor": 0
}