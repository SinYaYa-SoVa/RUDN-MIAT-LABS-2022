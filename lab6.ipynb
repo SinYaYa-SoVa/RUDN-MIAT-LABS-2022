{
 "cells": [
  {
   "cell_type": "markdown",
   "source": [
    "\n",
    "\n",
    "<H1>Методы интеллектуального анализа текстов</H1>\n",
    "<H2>Тема 6. Извлечение именованных сущностей</H2>\n",
    "\n"
   ],
   "metadata": {
    "collapsed": false,
    "id": "0ZJ1Q6DAh3ae"
   }
  },
  {
   "cell_type": "markdown",
   "source": [
    "### Задание 3:\n",
    "Улучшить качество базовой предсказательной CRF-модели на тестовой выборке за счет добавления и модификации признаков."
   ],
   "metadata": {
    "collapsed": false,
    "pycharm": {
     "name": "#%% md\n"
    },
    "id": "OvY2AWS3h3ap"
   }
  },
  {
   "cell_type": "code",
   "execution_count": 1,
   "outputs": [
    {
     "output_type": "stream",
     "name": "stdout",
     "text": [
      "--2022-10-16 14:47:36--  https://www.dropbox.com/s/iuwsx5pmfhkk0w2/ner_dataset.csv\n",
      "Resolving www.dropbox.com (www.dropbox.com)... 162.125.7.18, 2620:100:601d:18::a27d:512\n",
      "Connecting to www.dropbox.com (www.dropbox.com)|162.125.7.18|:443... connected.\n",
      "HTTP request sent, awaiting response... 302 Found\n",
      "Location: /s/raw/iuwsx5pmfhkk0w2/ner_dataset.csv [following]\n",
      "--2022-10-16 14:47:37--  https://www.dropbox.com/s/raw/iuwsx5pmfhkk0w2/ner_dataset.csv\n",
      "Reusing existing connection to www.dropbox.com:443.\n",
      "HTTP request sent, awaiting response... 302 Found\n",
      "Location: https://ucbcfc76ca5c2fd264153d994277.dl.dropboxusercontent.com/cd/0/inline/Bu6JWj8RX8_4zzgOWakpmy80QtyCbGH1u2qDuZQkHT_Thj1xTM6axI7JdYkmVXi3yW9WqQKUrZvvDEOFUPJijOtUNKcaFjia-FR34NQIVg2FWA3dezfLRPQ1_OsyvfGbjQeDR3R-8Oh4rcu1XTjy_REzB2okL9aCg1Igl4dfc79dgg/file# [following]\n",
      "--2022-10-16 14:47:37--  https://ucbcfc76ca5c2fd264153d994277.dl.dropboxusercontent.com/cd/0/inline/Bu6JWj8RX8_4zzgOWakpmy80QtyCbGH1u2qDuZQkHT_Thj1xTM6axI7JdYkmVXi3yW9WqQKUrZvvDEOFUPJijOtUNKcaFjia-FR34NQIVg2FWA3dezfLRPQ1_OsyvfGbjQeDR3R-8Oh4rcu1XTjy_REzB2okL9aCg1Igl4dfc79dgg/file\n",
      "Resolving ucbcfc76ca5c2fd264153d994277.dl.dropboxusercontent.com (ucbcfc76ca5c2fd264153d994277.dl.dropboxusercontent.com)... 162.125.5.15, 2620:100:601d:15::a27d:50f\n",
      "Connecting to ucbcfc76ca5c2fd264153d994277.dl.dropboxusercontent.com (ucbcfc76ca5c2fd264153d994277.dl.dropboxusercontent.com)|162.125.5.15|:443... connected.\n",
      "HTTP request sent, awaiting response... 200 OK\n",
      "Length: 15208151 (15M) [text/plain]\n",
      "Saving to: ‘ner_dataset.csv’\n",
      "\n",
      "ner_dataset.csv     100%[===================>]  14.50M  55.2MB/s    in 0.3s    \n",
      "\n",
      "2022-10-16 14:47:38 (55.2 MB/s) - ‘ner_dataset.csv’ saved [15208151/15208151]\n",
      "\n"
     ]
    }
   ],
   "source": [
    "! wget https://www.dropbox.com/s/iuwsx5pmfhkk0w2/ner_dataset.csv"
   ],
   "metadata": {
    "pycharm": {
     "name": "#%%\n"
    },
    "colab": {
     "base_uri": "https://localhost:8080/"
    },
    "id": "e122ax43Q3Ug",
    "outputId": "d94dfeab-9547-4c13-ed5e-df7a2222287f"
   }
  },
  {
   "cell_type": "markdown",
   "source": [
    "Устанавливаем старую версию ***scikit-learn***, ибо на более свежих возникает ошибка атрибутов при работе с ***sklearn-crfsuite***"
   ],
   "metadata": {
    "collapsed": false,
    "id": "5ue2gx1PQ3Ui"
   }
  },
  {
   "cell_type": "code",
   "execution_count": 2,
   "outputs": [
    {
     "output_type": "stream",
     "name": "stdout",
     "text": [
      "Looking in indexes: https://pypi.org/simple, https://us-python.pkg.dev/colab-wheels/public/simple/\n",
      "Collecting scikit-learn<0.24\n",
      "  Downloading scikit_learn-0.23.2-cp37-cp37m-manylinux1_x86_64.whl (6.8 MB)\n",
      "\u001B[K     |████████████████████████████████| 6.8 MB 5.2 MB/s \n",
      "\u001B[?25hRequirement already satisfied: scipy>=0.19.1 in /usr/local/lib/python3.7/dist-packages (from scikit-learn<0.24) (1.7.3)\n",
      "Requirement already satisfied: threadpoolctl>=2.0.0 in /usr/local/lib/python3.7/dist-packages (from scikit-learn<0.24) (3.1.0)\n",
      "Requirement already satisfied: joblib>=0.11 in /usr/local/lib/python3.7/dist-packages (from scikit-learn<0.24) (1.2.0)\n",
      "Requirement already satisfied: numpy>=1.13.3 in /usr/local/lib/python3.7/dist-packages (from scikit-learn<0.24) (1.21.6)\n",
      "Installing collected packages: scikit-learn\n",
      "  Attempting uninstall: scikit-learn\n",
      "    Found existing installation: scikit-learn 1.0.2\n",
      "    Uninstalling scikit-learn-1.0.2:\n",
      "      Successfully uninstalled scikit-learn-1.0.2\n",
      "\u001B[31mERROR: pip's dependency resolver does not currently take into account all the packages that are installed. This behaviour is the source of the following dependency conflicts.\n",
      "yellowbrick 1.5 requires scikit-learn>=1.0.0, but you have scikit-learn 0.23.2 which is incompatible.\n",
      "imbalanced-learn 0.8.1 requires scikit-learn>=0.24, but you have scikit-learn 0.23.2 which is incompatible.\u001B[0m\n",
      "Successfully installed scikit-learn-0.23.2\n"
     ]
    }
   ],
   "source": [
    "! pip install -U 'scikit-learn<0.24'"
   ],
   "metadata": {
    "pycharm": {
     "name": "#%%\n"
    },
    "colab": {
     "base_uri": "https://localhost:8080/"
    },
    "id": "YNNBUNYBQ3Ui",
    "outputId": "cb87ee46-8b7d-4186-a1a0-ab68ac4c6b85"
   }
  },
  {
   "cell_type": "code",
   "source": [
    "! pip install sklearn_crfsuite"
   ],
   "metadata": {
    "colab": {
     "base_uri": "https://localhost:8080/"
    },
    "id": "wCO0hVLyRHA0",
    "outputId": "6149becc-c408-413f-d8d6-739e6ab36479"
   },
   "execution_count": 4,
   "outputs": [
    {
     "output_type": "stream",
     "name": "stdout",
     "text": [
      "Looking in indexes: https://pypi.org/simple, https://us-python.pkg.dev/colab-wheels/public/simple/\n",
      "Collecting sklearn_crfsuite\n",
      "  Downloading sklearn_crfsuite-0.3.6-py2.py3-none-any.whl (12 kB)\n",
      "Collecting python-crfsuite>=0.8.3\n",
      "  Downloading python_crfsuite-0.9.8-cp37-cp37m-manylinux_2_17_x86_64.manylinux2014_x86_64.whl (965 kB)\n",
      "\u001B[K     |████████████████████████████████| 965 kB 4.7 MB/s \n",
      "\u001B[?25hRequirement already satisfied: tqdm>=2.0 in /usr/local/lib/python3.7/dist-packages (from sklearn_crfsuite) (4.64.1)\n",
      "Requirement already satisfied: six in /usr/local/lib/python3.7/dist-packages (from sklearn_crfsuite) (1.15.0)\n",
      "Requirement already satisfied: tabulate in /usr/local/lib/python3.7/dist-packages (from sklearn_crfsuite) (0.8.10)\n",
      "Installing collected packages: python-crfsuite, sklearn-crfsuite\n",
      "Successfully installed python-crfsuite-0.9.8 sklearn-crfsuite-0.3.6\n"
     ]
    }
   ]
  },
  {
   "cell_type": "markdown",
   "source": [
    "Импортируем нужные библиотеки."
   ],
   "metadata": {
    "collapsed": false,
    "pycharm": {
     "name": "#%% md\n"
    },
    "id": "EaZdA9m3h3ap"
   }
  },
  {
   "cell_type": "code",
   "execution_count": 18,
   "outputs": [],
   "source": [
    "import pandas as pd\n",
    "import nltk\n",
    "import sklearn_crfsuite\n",
    "from sklearn_crfsuite import metrics\n",
    "from sklearn.model_selection import train_test_split\n",
    "from nltk.corpus import stopwords"
   ],
   "metadata": {
    "pycharm": {
     "name": "#%%\n"
    },
    "id": "zIiopULUh3aq"
   }
  },
  {
   "cell_type": "code",
   "source": [
    "data = pd.read_csv(\"ner_dataset.csv\", encoding=\"latin1\")\n",
    "data = data.fillna(method=\"ffill\")\n",
    "\n",
    "agg_func = lambda s: [[w, p, t] for w, p, t in zip(s[\"Word\"].values.tolist(),\n",
    "                                                   s[\"POS\"].values.tolist(),\n",
    "                                                   s[\"Tag\"].values.tolist())]\n",
    "grouped = data.groupby(\"Sentence #\").apply(agg_func).values.tolist()\n",
    "\n",
    "X_list = [[word[:2] for word in sentence] for sentence in grouped]\n",
    "y_list = [[word[2] for word in sentence] for sentence in grouped]"
   ],
   "metadata": {
    "id": "qWtUE0flyYnt"
   },
   "execution_count": 6,
   "outputs": []
  },
  {
   "cell_type": "code",
   "execution_count": 7,
   "outputs": [],
   "source": [
    "data_train, data_test, y_train, y_test = train_test_split(X_list, y_list, test_size=0.2, random_state=1337)"
   ],
   "metadata": {
    "pycharm": {
     "name": "#%%\n"
    },
    "id": "hlHT8Uz0Q3Uj"
   }
  },
  {
   "cell_type": "code",
   "execution_count": 10,
   "outputs": [
    {
     "output_type": "stream",
     "name": "stderr",
     "text": [
      "[nltk_data] Downloading package stopwords to /root/nltk_data...\n",
      "[nltk_data]   Unzipping corpora/stopwords.zip.\n"
     ]
    }
   ],
   "source": [
    "nltk.download('stopwords')\n",
    "stop_words = set(stopwords.words('english'))"
   ],
   "metadata": {
    "pycharm": {
     "name": "#%%\n"
    },
    "colab": {
     "base_uri": "https://localhost:8080/"
    },
    "id": "H4Uu3a-IQ3Uk",
    "outputId": "564aa636-c22a-494c-f463-f9a88b923ada"
   }
  },
  {
   "cell_type": "code",
   "execution_count": 30,
   "outputs": [],
   "source": [
    "def word2features(sent, i):\n",
    "    word = sent[i][0]\n",
    "    postag = sent[i][1]\n",
    "\n",
    "    features = {\n",
    "        'word.lower()': word.lower(),\n",
    "        'word.isupper()': word.isupper(),\n",
    "        'word.istitle()': word.istitle(),\n",
    "        'word.isdigit()': word.isdigit(),\n",
    "        'postag': postag,\n",
    "        # 'stopword': True if word in stop_words else False,\n",
    "        # 'bias': 1.0,\n",
    "        # 'word[-3:]': word[-3:],\n",
    "        # 'word[-2:]': word[-2:],\n",
    "        # 'postag[:2]': postag[:2]\n",
    "    }\n",
    "    if i > 0:\n",
    "        word1 = sent[i-1][0]\n",
    "        postag1 = sent[i-1][1]\n",
    "        features.update({\n",
    "            '-1:word.lower()': word1.lower(),\n",
    "            '-1:word.istitle()': word1.istitle(),\n",
    "            '-1:word.isupper()': word1.isupper(),\n",
    "            # '-1:postag': postag1,\n",
    "            # '-1:postag[:2]': postag1[:2]\n",
    "        })\n",
    "    else:\n",
    "        features['BOS'] = True\n",
    "\n",
    "    if i < len(sent)-1:\n",
    "        word1 = sent[i+1][0]\n",
    "        postag1 = sent[i+1][1]\n",
    "        features.update({\n",
    "            '+1:word.lower()': word1.lower(),\n",
    "            '+1:word.istitle()': word1.istitle(),\n",
    "            '+1:word.isupper()': word1.isupper(),\n",
    "            # '+1:postag': postag1,\n",
    "            # '+1:postag[:2]': postag1[:2]\n",
    "        })\n",
    "    else:\n",
    "        features['EOS'] = True\n",
    "\n",
    "    return features\n",
    "\n",
    "def sent2features(sent):\n",
    "    return [word2features(sent, i) for i in range(len(sent))]"
   ],
   "metadata": {
    "pycharm": {
     "name": "#%%\n"
    },
    "id": "adyMLUxKQ3Uk"
   }
  },
  {
   "cell_type": "code",
   "execution_count": 31,
   "outputs": [],
   "source": [
    "X_train = [sent2features(s) for s in data_train]\n",
    "X_test = [sent2features(s) for s in data_test]"
   ],
   "metadata": {
    "pycharm": {
     "name": "#%%\n"
    },
    "id": "nGKbeCt6Q3Uk"
   }
  },
  {
   "cell_type": "markdown",
   "source": [
    "Инициализация и обучение модели"
   ],
   "metadata": {
    "pycharm": {
     "name": "#%% md\n"
    },
    "id": "cAd2ulvlQ3Ul"
   }
  },
  {
   "cell_type": "code",
   "execution_count": 32,
   "outputs": [
    {
     "output_type": "execute_result",
     "data": {
      "text/plain": [
       "CRF(algorithm='lbfgs', all_possible_transitions=True, c1=0.1, c2=0.1,\n",
       "    keep_tempfiles=None, max_iterations=100)"
      ]
     },
     "metadata": {},
     "execution_count": 32
    }
   ],
   "source": [
    "crf = sklearn_crfsuite.CRF(\n",
    "    algorithm='lbfgs',\n",
    "    c1=0.1,\n",
    "    c2=0.1,\n",
    "    max_iterations=100,\n",
    "    all_possible_transitions=True\n",
    ")\n",
    "\n",
    "crf.fit(X_train, y_train)"
   ],
   "metadata": {
    "pycharm": {
     "name": "#%%\n"
    },
    "colab": {
     "base_uri": "https://localhost:8080/"
    },
    "id": "NmJ33qw2Q3Ul",
    "outputId": "90ea9d9b-32cf-4efb-bace-c51d8ee67f3e"
   }
  },
  {
   "cell_type": "code",
   "execution_count": 33,
   "outputs": [],
   "source": [
    "labels = list(crf.classes_)\n",
    "labels.remove('O') # Удаляем сегменты, которые не принадлежат к какой-либо именованной сущности"
   ],
   "metadata": {
    "pycharm": {
     "name": "#%%\n"
    },
    "id": "AsFllAKPQ3Ul"
   }
  },
  {
   "cell_type": "code",
   "source": [
    "labels"
   ],
   "metadata": {
    "colab": {
     "base_uri": "https://localhost:8080/"
    },
    "id": "li8TyfhiXkyY",
    "outputId": "5eff8b99-2813-428b-e9f9-6fedf980db2d"
   },
   "execution_count": 34,
   "outputs": [
    {
     "output_type": "execute_result",
     "data": {
      "text/plain": [
       "['B-org',\n",
       " 'I-org',\n",
       " 'B-gpe',\n",
       " 'B-tim',\n",
       " 'I-tim',\n",
       " 'B-per',\n",
       " 'I-per',\n",
       " 'B-geo',\n",
       " 'I-geo',\n",
       " 'B-eve',\n",
       " 'B-nat',\n",
       " 'I-eve',\n",
       " 'I-nat',\n",
       " 'B-art',\n",
       " 'I-art',\n",
       " 'I-gpe']"
      ]
     },
     "metadata": {},
     "execution_count": 34
    }
   ]
  },
  {
   "cell_type": "markdown",
   "source": [
    "Результаты если раскомментировать дополнительные признаки в функции **word2features**"
   ],
   "metadata": {
    "id": "qSZePLQuZ79i"
   }
  },
  {
   "cell_type": "code",
   "execution_count": 35,
   "outputs": [
    {
     "output_type": "execute_result",
     "data": {
      "text/plain": [
       "0.8592386330055357"
      ]
     },
     "metadata": {},
     "execution_count": 35
    }
   ],
   "source": [
    "y_pred = crf.predict(X_test)\n",
    "metrics.flat_f1_score(y_test, y_pred, average='weighted', labels=labels)"
   ],
   "metadata": {
    "pycharm": {
     "name": "#%%\n"
    },
    "colab": {
     "base_uri": "https://localhost:8080/"
    },
    "id": "msXOLi99Q3Ul",
    "outputId": "1b776d5e-61ba-4fb7-f3c3-57d60902d053"
   }
  },
  {
   "cell_type": "markdown",
   "source": [
    "Результаты если функцию **word2features** оставить без изменений"
   ],
   "metadata": {
    "id": "HRloLcgLaOBV"
   }
  },
  {
   "cell_type": "code",
   "source": [
    "y_pred = crf.predict(X_test)\n",
    "metrics.flat_f1_score(y_test, y_pred, average='weighted', labels=labels)"
   ],
   "metadata": {
    "colab": {
     "base_uri": "https://localhost:8080/"
    },
    "id": "ASlRmxu2S3nZ",
    "outputId": "7211081e-f0af-4ade-9c90-5e0e7d5110b2"
   },
   "execution_count": 29,
   "outputs": [
    {
     "output_type": "execute_result",
     "data": {
      "text/plain": [
       "0.8584531001802781"
      ]
     },
     "metadata": {},
     "execution_count": 29
    }
   ]
  },
  {
   "cell_type": "markdown",
   "source": [
    "Как мы можем видеть, если мы используем дополнительные признаки, то точность модели немного улучшается. В целом, точность модели относительно неплоха."
   ],
   "metadata": {
    "id": "If-_6Y4dcMt_",
    "pycharm": {
     "name": "#%% md\n"
    }
   }
  },
  {
   "cell_type": "code",
   "execution_count": null,
   "outputs": [],
   "source": [],
   "metadata": {
    "collapsed": false,
    "pycharm": {
     "name": "#%%\n"
    }
   }
  }
 ],
 "metadata": {
  "kernelspec": {
   "display_name": "Python 3",
   "language": "python",
   "name": "python3"
  },
  "language_info": {
   "codemirror_mode": {
    "name": "ipython",
    "version": 2
   },
   "file_extension": ".py",
   "mimetype": "text/x-python",
   "name": "python",
   "nbconvert_exporter": "python",
   "pygments_lexer": "ipython2",
   "version": "2.7.6"
  },
  "colab": {
   "provenance": [],
   "collapsed_sections": []
  }
 },
 "nbformat": 4,
 "nbformat_minor": 0
}